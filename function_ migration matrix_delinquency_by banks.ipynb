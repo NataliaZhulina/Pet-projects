{
 "cells": [
  {
   "cell_type": "markdown",
   "id": "f51cf119",
   "metadata": {},
   "source": [
    "# Задача\n",
    "\n",
    "Необходимо написать функцию для построения матрицы миграции просрочки по банкам.\t\n",
    "\n",
    "\n",
    "Функция на вход должна принимать  \"Наименование Банка\", \"Тип обязательства\", \"Путь к базе данных\", т.е. пользователь функции должен иметь возможность построить матрицу миграции по различным банкам и типам обязательств.\n",
    "На выходе пользователь должен видеть матрицу, выгруженную на новый лист.\n",
    "\n",
    "Разбивка для матрицы:\n",
    "\n",
    "- Без просрочки\t\t\n",
    "- просрочка 0 - 30 дней\t\t\n",
    "- просрочка 31-60 дней\t\t\n",
    "- просрочка 61-90 дней\t\t\n",
    "- просрочка 91+ дней\t\t\n"
   ]
  },
  {
   "cell_type": "code",
   "execution_count": 1,
   "id": "8c5c377e",
   "metadata": {},
   "outputs": [],
   "source": [
    "import pandas as pd\n",
    "from openpyxl import load_workbook\n",
    "import datetime\n",
    "from datetime import datetime, timedelta\n",
    "import warnings\n",
    "warnings.filterwarnings('ignore')"
   ]
  },
  {
   "cell_type": "code",
   "execution_count": 2,
   "id": "57bec99c",
   "metadata": {},
   "outputs": [
    {
     "name": "stdout",
     "output_type": "stream",
     "text": [
      "Requirement already satisfied: XlsxWriter in c:\\users\\kazhu\\anaconda3\\lib\\site-packages (3.1.2)\n",
      "Note: you may need to restart the kernel to use updated packages.\n"
     ]
    }
   ],
   "source": [
    "pip install XlsxWriter"
   ]
  },
  {
   "cell_type": "code",
   "execution_count": 3,
   "id": "d38cfd86",
   "metadata": {},
   "outputs": [
    {
     "data": {
      "text/html": [
       "<div>\n",
       "<style scoped>\n",
       "    .dataframe tbody tr th:only-of-type {\n",
       "        vertical-align: middle;\n",
       "    }\n",
       "\n",
       "    .dataframe tbody tr th {\n",
       "        vertical-align: top;\n",
       "    }\n",
       "\n",
       "    .dataframe thead th {\n",
       "        text-align: right;\n",
       "    }\n",
       "</style>\n",
       "<table border=\"1\" class=\"dataframe\">\n",
       "  <thead>\n",
       "    <tr style=\"text-align: right;\">\n",
       "      <th></th>\n",
       "      <th>id</th>\n",
       "      <th>Дата</th>\n",
       "      <th>Просрочка, дней</th>\n",
       "      <th>Тип обязательства</th>\n",
       "      <th>Первоначальный кредитор</th>\n",
       "    </tr>\n",
       "  </thead>\n",
       "  <tbody>\n",
       "    <tr>\n",
       "      <th>0</th>\n",
       "      <td>1001</td>\n",
       "      <td>01/01/2019</td>\n",
       "      <td>0</td>\n",
       "      <td>Ипотека</td>\n",
       "      <td>СБЕРБАНК</td>\n",
       "    </tr>\n",
       "    <tr>\n",
       "      <th>1</th>\n",
       "      <td>3828</td>\n",
       "      <td>01/01/2019</td>\n",
       "      <td>2771</td>\n",
       "      <td>Потребительский</td>\n",
       "      <td>ТИНЬКОФФ</td>\n",
       "    </tr>\n",
       "    <tr>\n",
       "      <th>2</th>\n",
       "      <td>3829</td>\n",
       "      <td>01/01/2019</td>\n",
       "      <td>2827</td>\n",
       "      <td>Ипотека</td>\n",
       "      <td>ТИНЬКОФФ</td>\n",
       "    </tr>\n",
       "    <tr>\n",
       "      <th>3</th>\n",
       "      <td>3831</td>\n",
       "      <td>01/01/2019</td>\n",
       "      <td>3619</td>\n",
       "      <td>Ипотека</td>\n",
       "      <td>ТИНЬКОФФ</td>\n",
       "    </tr>\n",
       "    <tr>\n",
       "      <th>4</th>\n",
       "      <td>3832</td>\n",
       "      <td>01/01/2019</td>\n",
       "      <td>3183</td>\n",
       "      <td>Потребительский</td>\n",
       "      <td>ТИНЬКОФФ</td>\n",
       "    </tr>\n",
       "  </tbody>\n",
       "</table>\n",
       "</div>"
      ],
      "text/plain": [
       "     id        Дата  Просрочка, дней Тип обязательства Первоначальный кредитор\n",
       "0  1001  01/01/2019                0           Ипотека                СБЕРБАНК\n",
       "1  3828  01/01/2019             2771   Потребительский                ТИНЬКОФФ\n",
       "2  3829  01/01/2019             2827           Ипотека                ТИНЬКОФФ\n",
       "3  3831  01/01/2019             3619           Ипотека                ТИНЬКОФФ\n",
       "4  3832  01/01/2019             3183   Потребительский                ТИНЬКОФФ"
      ]
     },
     "execution_count": 3,
     "metadata": {},
     "output_type": "execute_result"
    }
   ],
   "source": [
    "path_read = 'https://docs.google.com/spreadsheets/d/e/2PACX-1vSVV3mwtVxLRKfi40fKb_61GPkQtTfRc52TvN4JVVfcp1RuJjfnyKj0-VAOQFCY4mw2JR-8kE7CPvpR/pub?gid=1514326207&single=true&output=csv'\n",
    "df = pd.read_csv(path_read)\n",
    "df.head()"
   ]
  },
  {
   "cell_type": "code",
   "execution_count": 4,
   "id": "634bcfce",
   "metadata": {},
   "outputs": [],
   "source": [
    "def build_migration_matrix(bank_name, obligation_type,\\\n",
    "                           path='D:/Рабочий стол/Наталья/Data analyse/Трудоустройство/Тестовые/РегионКонсалт/Блок3_Данные.csv'):\n",
    "    #на вход в функцию передаём название банка (первоначальный кредитор, тип обязательства, путь к базе данный \n",
    "    #тут указан дефолтный путь,поэтому поменяла местами входные данные\n",
    "    df = pd.read_csv(path)\n",
    "    #Если данные их Excel, то использовать этот способ:\n",
    "    #df = pd.read_excel(path, sheet_name='Data') #(предполагается, что данные находятся в листе \"Data\" в файле базы данных)\n",
    "    \n",
    "    # Фильтрация данных по указанному банку и типу обязательства\n",
    "    filtered_df = df[(df['Первоначальный кредитор'] == bank_name) & (df['Тип обязательства'] == obligation_type)]\n",
    "    \n",
    "    # Разбивка просрочек по временным интервалам\n",
    "    bins = [-float(\"inf\"), 0, 30, 60, 90, float('inf') ]\n",
    "    labels = ['Без просрочки', 'просрочка 0-30 дней', 'просрочка 31-60 дней', 'просрочка 61-90 дней', 'просрочка 91+ дней']\n",
    "    filtered_df[\"Просрочка категория\"] = pd.cut(filtered_df['Просрочка, дней'], bins=bins, labels=labels)\n",
    "    \n",
    "    \n",
    "    # Построение матрицы миграции\n",
    "    df_date1 = (\n",
    "        filtered_df.sort_values(by=['id', 'Дата'])\n",
    "        .groupby('id')\n",
    "        .agg({'Дата': 'first', 'Просрочка категория': 'first' })\n",
    "        .rename(columns={'Дата': 'date1', 'Просрочка категория': 'delay1' })\n",
    "        .reset_index()  \n",
    "    )\n",
    "    \n",
    "    df_date2 = (\n",
    "        filtered_df.sort_values(by=['id', 'Дата'])\n",
    "        .groupby('id')\n",
    "        .agg({'Дата': 'last', 'Просрочка категория': 'last' })\n",
    "        .rename(columns={'Дата': 'date2', 'Просрочка категория': 'delay2' })\n",
    "        .reset_index()\n",
    "    )  \n",
    "    \n",
    "    result = pd.merge(df_date2, df_date1, how='outer', on='id')\n",
    "    result1 = result.pivot_table(index='delay2', columns='delay1', aggfunc='size', fill_value=0).reset_index()\n",
    "    #Установка необходимых названий строк и столбцов\n",
    "    result1['Банк'] = bank_name\n",
    "    result1['Дата актуальная'] = filtered_df['Дата'].max()\n",
    "    result1.set_index(['Банк', 'Дата актуальная','delay2'], inplace=True)\n",
    "    date_hist = filtered_df['Дата'].min()\n",
    "    result1.columns = pd.MultiIndex.from_tuples(\n",
    "    zip([date_hist, date_hist,date_hist, date_hist, date_hist, date_hist, date_hist, date_hist], \n",
    "        result1.columns))\n",
    "    \n",
    "    # Загрузка таблицы в файл Excel\n",
    "    \n",
    "    with pd.ExcelWriter('Transition matrix.xlsx', engine='xlsxwriter') as writer:\n",
    "        result1.to_excel(writer, sheet_name='NewSheet', index=True)\n",
    "\n",
    "        # Получаем объект workbook и worksheet для дополнительной настройки\n",
    "        workbook  = writer.book\n",
    "        worksheet = writer.sheets['NewSheet']\n",
    "\n",
    "        # Задаем ширину для каждого столбца\n",
    "        col_widths = [20, 20, 20, 20, 20, 20,20,20]\n",
    "        for i, width in enumerate(col_widths):\n",
    "            worksheet.set_column(i, i, width)\n",
    "    #можно указать путь исходного файла, чтобы вторым листом туда записывалось\n",
    "    #тогда код будет такой:\n",
    "    #with pd.ExcelWriter(path, engine='openpyxl',mode='a') as writer:\n",
    "        #writer.book = load_workbook(path)\n",
    "        #result1.to_excel(writer, sheet_name='Матрица миграции', index=True)\n",
    "    \n",
    "    print('Таблица успешно сохранена в Excel')     "
   ]
  },
  {
   "cell_type": "code",
   "execution_count": 5,
   "id": "f5d2a74f",
   "metadata": {},
   "outputs": [
    {
     "name": "stdout",
     "output_type": "stream",
     "text": [
      "Таблица успешно сохранена в Excel\n"
     ]
    }
   ],
   "source": [
    "build_migration_matrix('ТИНЬКОФФ', 'Потребительский', path_read)"
   ]
  },
  {
   "cell_type": "code",
   "execution_count": null,
   "id": "759e4bd6",
   "metadata": {},
   "outputs": [],
   "source": []
  }
 ],
 "metadata": {
  "kernelspec": {
   "display_name": "Python 3 (ipykernel)",
   "language": "python",
   "name": "python3"
  },
  "language_info": {
   "codemirror_mode": {
    "name": "ipython",
    "version": 3
   },
   "file_extension": ".py",
   "mimetype": "text/x-python",
   "name": "python",
   "nbconvert_exporter": "python",
   "pygments_lexer": "ipython3",
   "version": "3.10.9"
  }
 },
 "nbformat": 4,
 "nbformat_minor": 5
}
