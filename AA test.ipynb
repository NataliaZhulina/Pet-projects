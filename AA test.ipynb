{
 "cells": [
  {
   "cell_type": "markdown",
   "id": "453143fc-324e-4f3a-bfae-536279f57e02",
   "metadata": {
    "tags": []
   },
   "source": [
    "## A/B тестирование.  АА тест на корректность системы сплитования.\n",
    "\n",
    "Имеются данные АА-теста с '2022-01-24' по '2023-01-30'.\n",
    "Необходимо сделать симуляцию, как будто мы провели 10000 АА-тестов. На каждой итерации нужно сформировать подвыборки без повторения в 500 юзеров из 2 и 3 экспериментальной группы. Провести сравнение этих подвыборок t-testом.\n",
    "\n",
    "1. Построить гистограмму распределения получившихся 10000 p-values.\n",
    "\n",
    "2. Посчитать, какой процент p values оказался меньше либо равен 0.05\n",
    "\n",
    "3. Написать вывод по проведенному АА-тесту, корректно ли работает наша система сплитования."
   ]
  },
  {
   "cell_type": "markdown",
   "id": "0a373cdf",
   "metadata": {},
   "source": [
    "### Вывод\n",
    "__Мы получили 4.8 % значений p-value меньше или равно 0.05 и равномерное распределение значений p_value.\n",
    "Исходя из получившихся результатов, мы принимаем нулевую гипотезу об идентичности групп 2 и 3. Наша система сплитования работает корректно.__ "
   ]
  },
  {
   "cell_type": "markdown",
   "id": "18c20bb0-18a9-49c1-b81b-1bf720f36e23",
   "metadata": {},
   "source": [
    "__Формируем гипотезы:__\n",
    "\n",
    "Н0 = Различий между группами нет, система сплитования работает корректно.\n",
    "\n",
    "Н1 = Различия между группами есть, система сплитования работает не корректно."
   ]
  },
  {
   "cell_type": "code",
   "execution_count": 1,
   "id": "6a4cf5b1-8b66-406a-aa07-972647897392",
   "metadata": {},
   "outputs": [],
   "source": [
    "import pandas as pd\n",
    "import pandahouse as ph\n",
    "import matplotlib.pyplot as plt\n",
    "import numpy as np\n",
    "import seaborn as sns\n",
    "import scipy.stats as stats"
   ]
  },
  {
   "cell_type": "code",
   "execution_count": 2,
   "id": "7ee07280-1d0f-4474-b828-785a1bc4ca1b",
   "metadata": {},
   "outputs": [],
   "source": [
    "sns.set(\n",
    "    rc={\n",
    "        \"figure.figsize\": (12, 8), #размер графика - 12 дюймов в ширину, 8 в длину\n",
    "        \"axes.titlesize\": 20, #размер заголовка \n",
    "        \"axes.labelsize\": 14, #размер подписей осей\n",
    "        \"xtick.labelsize\": 13, #размер подписей чёрточек на x-оси\n",
    "        \"ytick.labelsize\": 13, #размер подписей чёрточек на y-оси\n",
    "    }\n",
    ")"
   ]
  },
  {
   "cell_type": "code",
   "execution_count": 3,
   "id": "4a478c12-81ad-4176-b72a-2e136dfc17dd",
   "metadata": {},
   "outputs": [
    {
     "data": {
      "text/html": [
       "<div>\n",
       "<style scoped>\n",
       "    .dataframe tbody tr th:only-of-type {\n",
       "        vertical-align: middle;\n",
       "    }\n",
       "\n",
       "    .dataframe tbody tr th {\n",
       "        vertical-align: top;\n",
       "    }\n",
       "\n",
       "    .dataframe thead th {\n",
       "        text-align: right;\n",
       "    }\n",
       "</style>\n",
       "<table border=\"1\" class=\"dataframe\">\n",
       "  <thead>\n",
       "    <tr style=\"text-align: right;\">\n",
       "      <th></th>\n",
       "      <th>exp_group</th>\n",
       "      <th>user_id</th>\n",
       "      <th>likes</th>\n",
       "      <th>views</th>\n",
       "      <th>ctr</th>\n",
       "    </tr>\n",
       "  </thead>\n",
       "  <tbody>\n",
       "    <tr>\n",
       "      <th>0</th>\n",
       "      <td>3</td>\n",
       "      <td>115383</td>\n",
       "      <td>11</td>\n",
       "      <td>36</td>\n",
       "      <td>0.305556</td>\n",
       "    </tr>\n",
       "    <tr>\n",
       "      <th>1</th>\n",
       "      <td>2</td>\n",
       "      <td>131473</td>\n",
       "      <td>26</td>\n",
       "      <td>148</td>\n",
       "      <td>0.175676</td>\n",
       "    </tr>\n",
       "    <tr>\n",
       "      <th>2</th>\n",
       "      <td>3</td>\n",
       "      <td>123580</td>\n",
       "      <td>15</td>\n",
       "      <td>92</td>\n",
       "      <td>0.163043</td>\n",
       "    </tr>\n",
       "    <tr>\n",
       "      <th>3</th>\n",
       "      <td>2</td>\n",
       "      <td>23985</td>\n",
       "      <td>12</td>\n",
       "      <td>66</td>\n",
       "      <td>0.181818</td>\n",
       "    </tr>\n",
       "    <tr>\n",
       "      <th>4</th>\n",
       "      <td>2</td>\n",
       "      <td>24523</td>\n",
       "      <td>17</td>\n",
       "      <td>120</td>\n",
       "      <td>0.141667</td>\n",
       "    </tr>\n",
       "  </tbody>\n",
       "</table>\n",
       "</div>"
      ],
      "text/plain": [
       "   exp_group  user_id  likes  views       ctr\n",
       "0          3   115383     11     36  0.305556\n",
       "1          2   131473     26    148  0.175676\n",
       "2          3   123580     15     92  0.163043\n",
       "3          2    23985     12     66  0.181818\n",
       "4          2    24523     17    120  0.141667"
      ]
     },
     "execution_count": 3,
     "metadata": {},
     "output_type": "execute_result"
    }
   ],
   "source": [
    "\n",
    "connection = {'host': ,\n",
    "                      'database':,\n",
    "                      'user':, \n",
    "                      'password':\n",
    "                     }\n",
    "\n",
    "q = \"\"\"\n",
    "SELECT exp_group, \n",
    "    user_id,\n",
    "    sum(action = 'like') as likes,\n",
    "    sum(action = 'view') as views,\n",
    "    likes/views as ctr\n",
    "FROM {db}.feed_actions \n",
    "WHERE toDate(time) between '2023-01-24' and '2023-01-30'\n",
    "    and exp_group in (2,3)\n",
    "GROUP BY exp_group, user_id\n",
    "\"\"\"\n",
    "\n",
    "df = ph.read_clickhouse(q, connection=connection)\n",
    "\n",
    "df.head()"
   ]
  },
  {
   "cell_type": "markdown",
   "id": "aa52d6d8-410d-43d6-9c5c-b9911d6aac75",
   "metadata": {},
   "source": [
    "Посмотрим общее описание по каждой группе"
   ]
  },
  {
   "cell_type": "code",
   "execution_count": 7,
   "id": "15d4fd5e-9965-4f99-afae-8a991f663f38",
   "metadata": {},
   "outputs": [
    {
     "data": {
      "text/html": [
       "<div>\n",
       "<style scoped>\n",
       "    .dataframe tbody tr th:only-of-type {\n",
       "        vertical-align: middle;\n",
       "    }\n",
       "\n",
       "    .dataframe tbody tr th {\n",
       "        vertical-align: top;\n",
       "    }\n",
       "\n",
       "    .dataframe thead th {\n",
       "        text-align: right;\n",
       "    }\n",
       "</style>\n",
       "<table border=\"1\" class=\"dataframe\">\n",
       "  <thead>\n",
       "    <tr style=\"text-align: right;\">\n",
       "      <th></th>\n",
       "      <th>exp_group</th>\n",
       "      <th>user_id</th>\n",
       "      <th>likes</th>\n",
       "      <th>views</th>\n",
       "      <th>ctr</th>\n",
       "    </tr>\n",
       "  </thead>\n",
       "  <tbody>\n",
       "    <tr>\n",
       "      <th>count</th>\n",
       "      <td>8480.0</td>\n",
       "      <td>8480.000000</td>\n",
       "      <td>8480.000000</td>\n",
       "      <td>8480.000000</td>\n",
       "      <td>8480.000000</td>\n",
       "    </tr>\n",
       "    <tr>\n",
       "      <th>mean</th>\n",
       "      <td>2.0</td>\n",
       "      <td>69282.766981</td>\n",
       "      <td>15.534198</td>\n",
       "      <td>73.493868</td>\n",
       "      <td>0.218246</td>\n",
       "    </tr>\n",
       "    <tr>\n",
       "      <th>std</th>\n",
       "      <td>0.0</td>\n",
       "      <td>53428.421103</td>\n",
       "      <td>10.814642</td>\n",
       "      <td>48.332066</td>\n",
       "      <td>0.080643</td>\n",
       "    </tr>\n",
       "    <tr>\n",
       "      <th>min</th>\n",
       "      <td>2.0</td>\n",
       "      <td>218.000000</td>\n",
       "      <td>0.000000</td>\n",
       "      <td>1.000000</td>\n",
       "      <td>0.000000</td>\n",
       "    </tr>\n",
       "    <tr>\n",
       "      <th>25%</th>\n",
       "      <td>2.0</td>\n",
       "      <td>16156.750000</td>\n",
       "      <td>7.000000</td>\n",
       "      <td>36.000000</td>\n",
       "      <td>0.164451</td>\n",
       "    </tr>\n",
       "    <tr>\n",
       "      <th>50%</th>\n",
       "      <td>2.0</td>\n",
       "      <td>107779.500000</td>\n",
       "      <td>13.000000</td>\n",
       "      <td>64.000000</td>\n",
       "      <td>0.205882</td>\n",
       "    </tr>\n",
       "    <tr>\n",
       "      <th>75%</th>\n",
       "      <td>2.0</td>\n",
       "      <td>121660.000000</td>\n",
       "      <td>21.000000</td>\n",
       "      <td>100.000000</td>\n",
       "      <td>0.260870</td>\n",
       "    </tr>\n",
       "    <tr>\n",
       "      <th>max</th>\n",
       "      <td>2.0</td>\n",
       "      <td>133642.000000</td>\n",
       "      <td>83.000000</td>\n",
       "      <td>364.000000</td>\n",
       "      <td>0.714286</td>\n",
       "    </tr>\n",
       "  </tbody>\n",
       "</table>\n",
       "</div>"
      ],
      "text/plain": [
       "       exp_group        user_id        likes        views          ctr\n",
       "count     8480.0    8480.000000  8480.000000  8480.000000  8480.000000\n",
       "mean         2.0   69282.766981    15.534198    73.493868     0.218246\n",
       "std          0.0   53428.421103    10.814642    48.332066     0.080643\n",
       "min          2.0     218.000000     0.000000     1.000000     0.000000\n",
       "25%          2.0   16156.750000     7.000000    36.000000     0.164451\n",
       "50%          2.0  107779.500000    13.000000    64.000000     0.205882\n",
       "75%          2.0  121660.000000    21.000000   100.000000     0.260870\n",
       "max          2.0  133642.000000    83.000000   364.000000     0.714286"
      ]
     },
     "execution_count": 7,
     "metadata": {},
     "output_type": "execute_result"
    }
   ],
   "source": [
    "df[df.exp_group == 2].describe()"
   ]
  },
  {
   "cell_type": "code",
   "execution_count": 9,
   "id": "1d8d3aea-7651-45e4-bd31-7517e241f0ec",
   "metadata": {},
   "outputs": [
    {
     "data": {
      "text/html": [
       "<div>\n",
       "<style scoped>\n",
       "    .dataframe tbody tr th:only-of-type {\n",
       "        vertical-align: middle;\n",
       "    }\n",
       "\n",
       "    .dataframe tbody tr th {\n",
       "        vertical-align: top;\n",
       "    }\n",
       "\n",
       "    .dataframe thead th {\n",
       "        text-align: right;\n",
       "    }\n",
       "</style>\n",
       "<table border=\"1\" class=\"dataframe\">\n",
       "  <thead>\n",
       "    <tr style=\"text-align: right;\">\n",
       "      <th></th>\n",
       "      <th>exp_group</th>\n",
       "      <th>user_id</th>\n",
       "      <th>likes</th>\n",
       "      <th>views</th>\n",
       "      <th>ctr</th>\n",
       "    </tr>\n",
       "  </thead>\n",
       "  <tbody>\n",
       "    <tr>\n",
       "      <th>count</th>\n",
       "      <td>8569.0</td>\n",
       "      <td>8569.000000</td>\n",
       "      <td>8569.000000</td>\n",
       "      <td>8569.000000</td>\n",
       "      <td>8569.000000</td>\n",
       "    </tr>\n",
       "    <tr>\n",
       "      <th>mean</th>\n",
       "      <td>3.0</td>\n",
       "      <td>69522.305520</td>\n",
       "      <td>15.612790</td>\n",
       "      <td>74.097678</td>\n",
       "      <td>0.219161</td>\n",
       "    </tr>\n",
       "    <tr>\n",
       "      <th>std</th>\n",
       "      <td>0.0</td>\n",
       "      <td>53281.229624</td>\n",
       "      <td>10.663215</td>\n",
       "      <td>49.081302</td>\n",
       "      <td>0.080932</td>\n",
       "    </tr>\n",
       "    <tr>\n",
       "      <th>min</th>\n",
       "      <td>3.0</td>\n",
       "      <td>200.000000</td>\n",
       "      <td>0.000000</td>\n",
       "      <td>2.000000</td>\n",
       "      <td>0.000000</td>\n",
       "    </tr>\n",
       "    <tr>\n",
       "      <th>25%</th>\n",
       "      <td>3.0</td>\n",
       "      <td>16332.000000</td>\n",
       "      <td>8.000000</td>\n",
       "      <td>36.000000</td>\n",
       "      <td>0.166667</td>\n",
       "    </tr>\n",
       "    <tr>\n",
       "      <th>50%</th>\n",
       "      <td>3.0</td>\n",
       "      <td>108007.000000</td>\n",
       "      <td>13.000000</td>\n",
       "      <td>64.000000</td>\n",
       "      <td>0.206612</td>\n",
       "    </tr>\n",
       "    <tr>\n",
       "      <th>75%</th>\n",
       "      <td>3.0</td>\n",
       "      <td>121563.000000</td>\n",
       "      <td>21.000000</td>\n",
       "      <td>102.000000</td>\n",
       "      <td>0.261538</td>\n",
       "    </tr>\n",
       "    <tr>\n",
       "      <th>max</th>\n",
       "      <td>3.0</td>\n",
       "      <td>133635.000000</td>\n",
       "      <td>83.000000</td>\n",
       "      <td>369.000000</td>\n",
       "      <td>0.714286</td>\n",
       "    </tr>\n",
       "  </tbody>\n",
       "</table>\n",
       "</div>"
      ],
      "text/plain": [
       "       exp_group        user_id        likes        views          ctr\n",
       "count     8569.0    8569.000000  8569.000000  8569.000000  8569.000000\n",
       "mean         3.0   69522.305520    15.612790    74.097678     0.219161\n",
       "std          0.0   53281.229624    10.663215    49.081302     0.080932\n",
       "min          3.0     200.000000     0.000000     2.000000     0.000000\n",
       "25%          3.0   16332.000000     8.000000    36.000000     0.166667\n",
       "50%          3.0  108007.000000    13.000000    64.000000     0.206612\n",
       "75%          3.0  121563.000000    21.000000   102.000000     0.261538\n",
       "max          3.0  133635.000000    83.000000   369.000000     0.714286"
      ]
     },
     "execution_count": 9,
     "metadata": {},
     "output_type": "execute_result"
    }
   ],
   "source": [
    "df[df.exp_group == 3].describe()"
   ]
  },
  {
   "cell_type": "markdown",
   "id": "223ba0cb-21b2-4553-81bb-0e616ad88134",
   "metadata": {},
   "source": [
    "Количество пользователей в группах почти одинаковое, отличается на 1%. Средние значения CTR отличаются на 0.001"
   ]
  },
  {
   "cell_type": "code",
   "execution_count": 5,
   "id": "e37ba638-6271-4180-9dad-c8f946ef53fd",
   "metadata": {},
   "outputs": [
    {
     "data": {
      "image/png": "[encoded data removed]",
      "text/plain": [
       "<Figure size 864x576 with 1 Axes>"
      ]
     },
     "metadata": {},
     "output_type": "display_data"
    }
   ],
   "source": [
    "#посмотрим визуально распределение ctr в наших группах\n",
    "groups = sns.histplot(data = df, \n",
    "              x='ctr', \n",
    "              hue='exp_group', \n",
    "              palette = ['r', 'b'],\n",
    "              alpha=0.5,\n",
    "              kde=False)"
   ]
  },
  {
   "cell_type": "markdown",
   "id": "e7de0abb-446f-4567-b43f-3ad9c56da50c",
   "metadata": {},
   "source": [
    "Визуально группы почти не отличаются "
   ]
  },
  {
   "cell_type": "markdown",
   "id": "279e3282-16cb-4ea2-82fa-5ad2160a99bb",
   "metadata": {},
   "source": [
    "Для начала проведём сравнение t-тестом целых выборок группы 2 и 3."
   ]
  },
  {
   "cell_type": "code",
   "execution_count": 6,
   "id": "21d1913f-6f08-409e-8063-646f61b2a4a0",
   "metadata": {},
   "outputs": [
    {
     "data": {
      "text/plain": [
       "Ttest_indResult(statistic=-0.7393597924958364, pvalue=0.45969873156476293)"
      ]
     },
     "execution_count": 6,
     "metadata": {},
     "output_type": "execute_result"
    }
   ],
   "source": [
    "stats.ttest_ind(df[df.exp_group == 2].ctr,\n",
    "                df[df.exp_group == 3].ctr,\n",
    "                equal_var=False)"
   ]
  },
  {
   "cell_type": "markdown",
   "id": "2fb9ed66-e23f-4f57-9bc7-75e9f6ccf65b",
   "metadata": {},
   "source": [
    "p-value t-теста  по целым группам больше 0.05. Похоже что между CTR групп 2 и 3  нет статистически значимых отличий. "
   ]
  },
  {
   "cell_type": "markdown",
   "id": "bf0adc32-e54c-435e-814f-a9bc73bde8fb",
   "metadata": {},
   "source": [
    "__Теперь проведём  симуляцию 10000 АА-тестов__"
   ]
  },
  {
   "cell_type": "code",
   "execution_count": 23,
   "id": "d6737c1d-ff70-4747-98dd-f077d3cd8afb",
   "metadata": {},
   "outputs": [],
   "source": [
    "# Создадим вспомогательную функцию\n",
    "def simulation (df1, df2, n_users, n_tests):\n",
    "    \"\"\"\n",
    "    Данная вспомогательная функция принимает 2 серии параметров сравнимаемых групп,\n",
    "    количество пользователей в подвыборке и количество проводимых тестов.\n",
    "\n",
    "    Параметры\n",
    "    ---------\n",
    "    df1, df2: серии параметров групп\n",
    "    n_users: количество пользователей в подвыборке\n",
    "    n_tests: количество проводимых t-тестов\n",
    "        \n",
    "    Функция возвращает серию из n_tests значений p-value\n",
    "    \"\"\"\n",
    "    p_value = []\n",
    "    for i in range(n_tests):\n",
    "        sample_1 = df1.sample(n_users, replace=False)\n",
    "        sample_2 = df2.sample(n_users, replace=False)\n",
    "        t_test = stats.ttest_ind(sample_1, sample_2, equal_var=False)\n",
    "        p_value.append(t_test[1])\n",
    "    return p_value\n",
    "    "
   ]
  },
  {
   "cell_type": "code",
   "execution_count": 24,
   "id": "d86c99f1-6802-4d25-90b5-5b5b3e3d4a32",
   "metadata": {},
   "outputs": [],
   "source": [
    "p_value = simulation(df[df.exp_group == 2].ctr, df[df.exp_group == 3].ctr, 500, 10000)"
   ]
  },
  {
   "cell_type": "code",
   "execution_count": 25,
   "id": "cbcced38-eed6-46bb-aa26-843848ecf08a",
   "metadata": {},
   "outputs": [
    {
     "data": {
      "image/png": "[encoded data removed]",
      "text/plain": [
       "<Figure size 864x576 with 1 Axes>"
      ]
     },
     "metadata": {},
     "output_type": "display_data"
    }
   ],
   "source": [
    "#строим гистограмму распределения получившихся p_value\n",
    "sns.histplot(p_value)\n",
    "plt.show()"
   ]
  },
  {
   "cell_type": "markdown",
   "id": "0ab35bb7-eab9-439e-b4a2-0a8faf8fb4e7",
   "metadata": {
    "tags": []
   },
   "source": [
    "Похоже на равномерное распределение"
   ]
  },
  {
   "cell_type": "code",
   "execution_count": 26,
   "id": "ce3b33b9-3f63-48a4-ba67-29b92dd52894",
   "metadata": {},
   "outputs": [
    {
     "name": "stdout",
     "output_type": "stream",
     "text": [
      "4.8 % значений p-value меньше или равно 0.05\n"
     ]
    }
   ],
   "source": [
    "#Посчитаем долю значений больше 0.05 в получившихся p_value\n",
    "a = 0 #количество p_value < 0.05\n",
    "for i in p_value:\n",
    "    if i<= 0.05:\n",
    "        a += 1\n",
    "rate = a*100 / len(p_value)\n",
    "print(f'{rate} % значений p-value меньше или равно 0.05' )       \n"
   ]
  },
  {
   "cell_type": "markdown",
   "id": "535540fe-3942-49c4-8b7e-9dfa9b552b3d",
   "metadata": {},
   "source": [
    "### Вывод\n",
    "__Мы получили 4.8 % значений p-value меньше или равно 0.05 и равномерное распределение значений p_value.\n",
    "Исходя из получившихся результатов, мы принимаем нулевую гипотезу об идентичности групп 2 и 3. Наша система сплитования работает корректно.__ "
   ]
  },
  {
   "cell_type": "code",
   "execution_count": null,
   "id": "82a5b2bd-778d-4619-acee-0e748825d856",
   "metadata": {},
   "outputs": [],
   "source": []
  }
 ],
 "metadata": {
  "kernelspec": {
   "display_name": "Python 3 (ipykernel)",
   "language": "python",
   "name": "python3"
  },
  "language_info": {
   "codemirror_mode": {
    "name": "ipython",
    "version": 3
   },
   "file_extension": ".py",
   "mimetype": "text/x-python",
   "name": "python",
   "nbconvert_exporter": "python",
   "pygments_lexer": "ipython3",
   "version": "3.10.9"
  }
 },
 "nbformat": 4,
 "nbformat_minor": 5
}
